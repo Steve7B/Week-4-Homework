{
 "cells": [
  {
   "cell_type": "code",
   "execution_count": 1,
   "metadata": {},
   "outputs": [],
   "source": [
    "def inches_to_centimeters(inches):\n",
    "    inches = int(inches)\n",
    "    centimeters = inches * 2.54\n",
    "    print(centimeters)"
   ]
  },
  {
   "cell_type": "code",
   "execution_count": 2,
   "metadata": {},
   "outputs": [],
   "source": [
    "def pounds_to_kilograms(pounds):\n",
    "    pounds = int(pounds)\n",
    "    kilograms = pounds / 2.2\n",
    "    print(kilograms)"
   ]
  },
  {
   "cell_type": "code",
   "execution_count": 3,
   "metadata": {},
   "outputs": [],
   "source": [
    "def farenheit_to_celcius(farenheit):\n",
    "    farenheit = int(farenheit)\n",
    "    celcius = (farenheit -32)/(9/5)\n",
    "    print(celcius)"
   ]
  },
  {
   "cell_type": "code",
   "execution_count": 8,
   "metadata": {},
   "outputs": [
    {
     "name": "stdout",
     "output_type": "stream",
     "text": [
      "How many pounds do you want to convert to kilograms? 10\n",
      "4.545454545454545\n"
     ]
    }
   ],
   "source": [
    "pounds = input (\"How many pounds do you want to convert to kilograms? \")\n",
    "pounds_to_kilograms(pounds)"
   ]
  },
  {
   "cell_type": "code",
   "execution_count": 9,
   "metadata": {},
   "outputs": [
    {
     "name": "stdout",
     "output_type": "stream",
     "text": [
      "How many inches do you want to convert to centimeters? 8\n",
      "20.32\n"
     ]
    }
   ],
   "source": [
    "inches = input (\"How many inches do you want to convert to centimeters? \")\n",
    "inches_to_centimeters(inches)"
   ]
  },
  {
   "cell_type": "code",
   "execution_count": 10,
   "metadata": {},
   "outputs": [
    {
     "name": "stdout",
     "output_type": "stream",
     "text": [
      "How many farenheit do you want to convert to celcius? 32\n",
      "0.0\n"
     ]
    }
   ],
   "source": [
    "farenheit = input (\"How many farenheit do you want to convert to celcius? \")\n",
    "farenheit_to_celcius(farenheit)"
   ]
  }
 ],
 "metadata": {
  "kernelspec": {
   "display_name": "Python 3",
   "language": "python",
   "name": "python3"
  },
  "language_info": {
   "codemirror_mode": {
    "name": "ipython",
    "version": 3
   },
   "file_extension": ".py",
   "mimetype": "text/x-python",
   "name": "python",
   "nbconvert_exporter": "python",
   "pygments_lexer": "ipython3",
   "version": "3.8.3"
  }
 },
 "nbformat": 4,
 "nbformat_minor": 4
}
